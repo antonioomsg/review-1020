{
 "cells": [
  {
   "cell_type": "markdown",
   "metadata": {},
   "source": [
    "# TABLEAU MAGES\n",
    "![Tableau Mages](../img/tm.jpg)"
   ]
  },
  {
   "cell_type": "markdown",
   "metadata": {},
   "source": [
    "## ```Welcome to your challenge```\n",
    "\n",
    "You and your teammates have been asigned the role of `tableu mages`, controllers of matter and creators of splendor out of thin air. You control the hability to shapeshift _data_, not only for beauty, but to unleash it's true power and potential. Much dedication and attention to detail is required of you.\n",
    "\n",
    "However, fighting the battle is not the end, you must live to tell the tale."
   ]
  },
  {
   "cell_type": "markdown",
   "metadata": {},
   "source": [
    "### The song of a hero\n",
    "\n",
    "Your theme is: `data visualization`\n",
    "The task in this challenge is twofold.\n",
    "Your team must:\n",
    "- Answer the most questions you can.\n",
    "- List **at least** `5` topics of interest (important points) on the theme to guide your 20 min presentation to your fellow students.\n",
    "- Work together and help each other out.\n",
    "\n",
    "_TIP_: Remember to check your topics along the exercise and adjust them accordingly.\n",
    "\n",
    "The team captain will be responsible for putting all the answers together on this notebook and making the pull request before the deadline set with the instructors."
   ]
  },
  {
   "cell_type": "markdown",
   "metadata": {},
   "source": [
    "# IMPORTANT POINTS\n",
    "\n",
    "- \n",
    "- \n",
    "- \n",
    "- \n",
    "- "
   ]
  },
  {
   "cell_type": "markdown",
   "metadata": {},
   "source": [
    "## Questions\n",
    "\n",
    "- Why should we visualize data in the form of charts and plots instead of just analyzing it as tables?\n",
    "- What is the difference between categorical and numerical variables?\n",
    "- What about between continuous and discrete?\n",
    "- Should we do data visualiations before or after the process of data cleaning? It doesn't matter or actually both could be useful?\n",
    "- What kinds of conclusions may we get from having our data represented visually?"
   ]
  },
  {
   "cell_type": "markdown",
   "metadata": {},
   "source": [
    "![URL](../img/graphs.png)"
   ]
  },
  {
   "cell_type": "markdown",
   "metadata": {},
   "source": [
    "##### List different types of plots you remember.\n",
    "- \n",
    "- \n",
    "- \n",
    "- \n",
    "\n",
    "Are all them good for representing both catergorical and numerical values? Which is better for eca+m¿\n"
   ]
  },
  {
   "cell_type": "markdown",
   "metadata": {},
   "source": [
    "Import the libraries."
   ]
  },
  {
   "cell_type": "code",
   "execution_count": 1,
   "metadata": {},
   "outputs": [],
   "source": [
    "import pandas as pd\n",
    "# Your answer"
   ]
  },
  {
   "cell_type": "markdown",
   "metadata": {},
   "source": [
    "First of all, lets start with a simple example.\n",
    "\n",
    "With the dataset at `data/salary.csv`, that is composed of only 2 columns, how would you represent this data visually?\n",
    "Are these columns numeric or categorical? Continuous or Discrete?\n",
    "What does this representation tell you about the relation between those columns."
   ]
  },
  {
   "cell_type": "code",
   "execution_count": 6,
   "metadata": {},
   "outputs": [],
   "source": [
    "df = pd.read_csv(\"data/salary.csv\")\n",
    "# Your answer"
   ]
  },
  {
   "cell_type": "markdown",
   "metadata": {},
   "source": [
    "Now, let's try with a dataset that has a little bit more data. This is a classic dataset for beginners Machine Learning. It relates the measures of length and width of both the petals and sepals of 3 different, but related, species, of the Genus Iris.\n",
    "\n",
    "Do you think we could be able to see through plots if these flowers can be separated by these measures alone?\n",
    "Try plotting a graph that relates the length and width of the petal, but that has 3 different colors, one for each of the 3 different species."
   ]
  },
  {
   "cell_type": "code",
   "execution_count": 3,
   "metadata": {},
   "outputs": [],
   "source": [
    "# Your answer"
   ]
  },
  {
   "cell_type": "markdown",
   "metadata": {},
   "source": [
    "Now lets do the same with the sepal measurements. Let's put them side by side with subplots and see if either the sepal or petal gives us a more clear separation of the 3 colors."
   ]
  },
  {
   "cell_type": "code",
   "execution_count": 4,
   "metadata": {},
   "outputs": [],
   "source": [
    "# Your answer"
   ]
  },
  {
   "cell_type": "markdown",
   "metadata": {},
   "source": [
    "Let's check something else. Do you think the length of the petals is uniformly distributed? Which kind of plot is best for representing the distribution of a column?"
   ]
  },
  {
   "cell_type": "code",
   "execution_count": null,
   "metadata": {},
   "outputs": [],
   "source": [
    "# Your answer"
   ]
  },
  {
   "cell_type": "markdown",
   "metadata": {},
   "source": [
    "What are the most important things to have in mind **before** creating a plot? For example, how do you chose which type of plot?\n",
    "\n",
    "- \n",
    "- \n",
    "- ..."
   ]
  },
  {
   "cell_type": "markdown",
   "metadata": {},
   "source": [
    "Finally, if we have a new dataset that we are not familiar with, we can (and should) use the visualizations to explore the data. Give it a try with this dataset on video game sales, `data/vgsales.csv`.\n",
    "This takes a little bit of try and error, but once you get the hang of it, certain types of data ask for certain types of charts.\n",
    "\n",
    "You may try creating graphics that allows us to:\n",
    "- See which plataform has the most number of titles.\n",
    "- See which plataform ocupies the largest percentage of the total.\n",
    "- Compare how the sales numbers changed over the years in the different continents.\n",
    "- Get the total sales by plataform.\n",
    "- See the distribution of sales throughout the years, decade by decade\n",
    "-- ...etc\n",
    "\n",
    "_NOTE:_ You may solve this exercises either in jupyter notebook, with matplotlib and seaborn, or in tableau. But if you choose tablaeu, do not forget to upload it to tableau public and place the link:\n",
    "    ```\n",
    "    <here>\n",
    "    ```"
   ]
  },
  {
   "cell_type": "code",
   "execution_count": 7,
   "metadata": {},
   "outputs": [],
   "source": [
    "# Your answer"
   ]
  },
  {
   "cell_type": "markdown",
   "metadata": {},
   "source": [
    "How about **after** you created a plot, what are the most important steps to analyze it?\n",
    "- \n",
    "- \n",
    "- \n",
    "- ..."
   ]
  },
  {
   "cell_type": "markdown",
   "metadata": {},
   "source": [
    "#### Extra\n",
    "[YouTube: A lot of cool tableau examples from a master](https://www.youtube.com/watch?v=S5QN-fK2-wU)"
   ]
  },
  {
   "cell_type": "code",
   "execution_count": null,
   "metadata": {},
   "outputs": [],
   "source": []
  }
 ],
 "metadata": {
  "kernelspec": {
   "display_name": "Python 3",
   "language": "python",
   "name": "python3"
  },
  "language_info": {
   "codemirror_mode": {
    "name": "ipython",
    "version": 3
   },
   "file_extension": ".py",
   "mimetype": "text/x-python",
   "name": "python",
   "nbconvert_exporter": "python",
   "pygments_lexer": "ipython3",
   "version": "3.8.2"
  }
 },
 "nbformat": 4,
 "nbformat_minor": 4
}
